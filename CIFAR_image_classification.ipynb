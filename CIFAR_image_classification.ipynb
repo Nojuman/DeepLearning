{
 "cells": [
  {
   "cell_type": "markdown",
   "metadata": {
    "collapsed": true
   },
   "source": [
    "# Image Classification\n",
    "The Objective of this project is to  classify images from the [CIFAR-10 dataset](https://www.cs.toronto.edu/~kriz/cifar.html).  The dataset consists of airplanes, dogs, cats, and other objects. You'll preprocess the images, then train a convolutional neural network on all the samples. The images need to be normalized and the labels need to be one-hot encoded.  A model was built using convolutional, max pooling, dropout, and fully connected layers.  This model classify the image based on the neural network's predictions on the sample images.\n",
    " "
   ]
  },
  {
   "cell_type": "code",
   "execution_count": 1,
   "metadata": {},
   "outputs": [
    {
     "name": "stderr",
     "output_type": "stream",
     "text": [
      "CIFAR-10 Dataset: 171MB [02:05, 1.35MB/s]                               \n"
     ]
    },
    {
     "name": "stdout",
     "output_type": "stream",
     "text": [
      "All files found!\n"
     ]
    }
   ],
   "source": [
    "\"\"\"\n",
    "DON'T MODIFY ANYTHING IN THIS CELL THAT IS BELOW THIS LINE\n",
    "\"\"\"\n",
    "from urllib.request import urlretrieve\n",
    "from os.path import isfile, isdir\n",
    "from tqdm import tqdm\n",
    "import problem_unittests as tests\n",
    "import tarfile\n",
    "\n",
    "cifar10_dataset_folder_path = 'cifar-10-batches-py'\n",
    "\n",
    "class DLProgress(tqdm):\n",
    "    last_block = 0\n",
    "\n",
    "    def hook(self, block_num=1, block_size=1, total_size=None):\n",
    "        self.total = total_size\n",
    "        self.update((block_num - self.last_block) * block_size)\n",
    "        self.last_block = block_num\n",
    "\n",
    "if not isfile('cifar-10-python.tar.gz'):\n",
    "    with DLProgress(unit='B', unit_scale=True, miniters=1, desc='CIFAR-10 Dataset') as pbar:\n",
    "        urlretrieve(\n",
    "            'https://www.cs.toronto.edu/~kriz/cifar-10-python.tar.gz',\n",
    "            'cifar-10-python.tar.gz',\n",
    "            pbar.hook)\n",
    "\n",
    "if not isdir(cifar10_dataset_folder_path):\n",
    "    with tarfile.open('cifar-10-python.tar.gz') as tar:\n",
    "        tar.extractall()\n",
    "        tar.close()\n",
    "\n",
    "\n",
    "tests.test_folder_path(cifar10_dataset_folder_path)"
   ]
  },
  {
   "cell_type": "markdown",
   "metadata": {},
   "source": [
    "## Explore the Data\n",
    "The dataset is broken into batches to prevent your machine from running out of memory.  The CIFAR-10 dataset consists of 5 batches, named `data_batch_1`, `data_batch_2`, etc.. Each batch contains the labels and images that are one of the following:\n",
    "* airplane\n",
    "* automobile\n",
    "* bird\n",
    "* cat\n",
    "* deer\n",
    "* dog\n",
    "* frog\n",
    "* horse\n",
    "* ship\n",
    "* truck\n",
    "\n",
    "Understanding a dataset is part of making predictions on the data.  Play around with the code cell below by changing the `batch_id` and `sample_id`. The `batch_id` is the id for a batch (1-5). The `sample_id` is the id for a image and label pair in the batch.\n",
    "\n",
    "Ask yourself \"What are all possible labels?\", \"What is the range of values for the image data?\", \"Are the labels in order or random?\".  Answers to questions like these will help you preprocess the data and end up with better predictions."
   ]
  },
  {
   "cell_type": "code",
   "execution_count": 2,
   "metadata": {},
   "outputs": [
    {
     "name": "stdout",
     "output_type": "stream",
     "text": [
      "\n",
      "Stats of batch 1:\n",
      "Samples: 10000\n",
      "Label Counts: {0: 1005, 1: 974, 2: 1032, 3: 1016, 4: 999, 5: 937, 6: 1030, 7: 1001, 8: 1025, 9: 981}\n",
      "First 20 Labels: [6, 9, 9, 4, 1, 1, 2, 7, 8, 3, 4, 7, 7, 2, 9, 9, 9, 3, 2, 6]\n",
      "Min/Max values for labels: 0/9\n",
      "\n",
      "Example of Image 5:\n",
      "Image - Min Value: 0 Max Value: 252\n",
      "Image - Shape: (32, 32, 3)\n",
      "Label - Label Id: 1 Name: automobile\n"
     ]
    },
    {
     "data": {
      "image/png": "[encoded data removed]",
      "text/plain": [
       "<matplotlib.figure.Figure at 0x1a160be4e0>"
      ]
     },
     "metadata": {
      "image/png": {
       "height": 250,
       "width": 253
      }
     },
     "output_type": "display_data"
    },
    {
     "name": "stdout",
     "output_type": "stream",
     "text": [
      "\n",
      "Stats of batch 1:\n",
      "Samples: 10000\n",
      "Label Counts: {0: 1005, 1: 974, 2: 1032, 3: 1016, 4: 999, 5: 937, 6: 1030, 7: 1001, 8: 1025, 9: 981}\n",
      "First 20 Labels: [6, 9, 9, 4, 1, 1, 2, 7, 8, 3, 4, 7, 7, 2, 9, 9, 9, 3, 2, 6]\n",
      "Min/Max values for labels: 0/9\n",
      "\n",
      "Example of Image 4:\n",
      "Image - Min Value: 0 Max Value: 254\n",
      "Image - Shape: (32, 32, 3)\n",
      "Label - Label Id: 1 Name: automobile\n"
     ]
    },
    {
     "data": {
      "image/png": "[encoded data removed]",
      "text/plain": [
       "<matplotlib.figure.Figure at 0x1a160f0198>"
      ]
     },
     "metadata": {
      "image/png": {
       "height": 250,
       "width": 253
      }
     },
     "output_type": "display_data"
    }
   ],
   "source": [
    "%matplotlib inline\n",
    "%config InlineBackend.figure_format = 'retina'\n",
    "\n",
    "import helper\n",
    "import numpy as np\n",
    "\n",
    "# Explore the dataset\n",
    "batch_id = 1\n",
    "sample_id = 5\n",
    "helper.display_stats(cifar10_dataset_folder_path, batch_id, sample_id)\n",
    "helper.display_stats(cifar10_dataset_folder_path, batch_id, 4)"
   ]
  },
  {
   "cell_type": "markdown",
   "metadata": {},
   "source": [
    "## <span style=\"color:green\">Notes:</span>\n",
    ">  The possible labels are contained between 0 and 9 and 1 seems to be associated to an automobile. So a label is probably associated to a certain type of image. By checking on the documentation of the CIFAR-10 dataset we can see that this is effectively the case where the numbers from 0 to 9 describes objects these objects (in order):\n",
    "    - Airplane   [0]\n",
    "    - Automobile [1]\n",
    "    - Bird       [2]\n",
    "    - Cat        [3]\n",
    "    - Deer       [4]\n",
    "    - Dog        [5]\n",
    "    - Frog       [6]\n",
    "    - Horse      [7]\n",
    "    - Ship       [8]\n",
    "    - Truck      [9]"
   ]
  },
  {
   "cell_type": "markdown",
   "metadata": {},
   "source": [
    "## Implement Preprocess Functions\n",
    "### Normalize\n",
    "In the cell below, implement the `normalize` function to take in image data, `x`, and return it as a normalized Numpy array. The values should be in the range of 0 to 1, inclusive.  The return object should be the same shape as `x`."
   ]
  },
  {
   "cell_type": "markdown",
   "metadata": {},
   "source": [
    "## <span style=\"color:green\">Notes:</span>\n",
    "> The Min-Max Scaling normalizer is defined by:\n",
    "\n",
    "> $X'=a+{\\frac {\\left(X-X_{\\min }\\right)\\left(b-a\\right)}{X_{\\max }-X_{\\min }}}$\n",
    "\n",
    "> With `a=0` and `b=1`"
   ]
  },
  {
   "cell_type": "code",
   "execution_count": 3,
   "metadata": {},
   "outputs": [
    {
     "name": "stdout",
     "output_type": "stream",
     "text": [
      "Tests Passed\n"
     ]
    }
   ],
   "source": [
    "def normalize(x):\n",
    "    \"\"\"\n",
    "    Normalize a list of sample image data in the range of 0 to 1\n",
    "    : x: List of image data.  The image shape is (32, 32, 3)\n",
    "    : return: Numpy array of normalize data\n",
    "    \"\"\"\n",
    "    a = 0\n",
    "    b = 1\n",
    "    x_max = np.amax(x)\n",
    "    x_min = np.amin(x)\n",
    "    return ((x - x_min) * (b - a)) / (x_max - x_min)\n",
    "\n",
    "\n",
    "\"\"\"\n",
    "DON'T MODIFY ANYTHING IN THIS CELL THAT IS BELOW THIS LINE\n",
    "\"\"\"\n",
    "tests.test_normalize(normalize)"
   ]
  },
  {
   "cell_type": "markdown",
   "metadata": {},
   "source": [
    "### One-hot encode\n",
    "Just like the previous code cell, you'll be implementing a function for preprocessing.  This time, you'll implement the `one_hot_encode` function. The input, `x`, are a list of labels.  Implement the function to return the list of labels as One-Hot encoded Numpy array.  The possible values for labels are 0 to 9. The one-hot encoding function should return the same encoding for each value between each call to `one_hot_encode`.  Make sure to save the map of encodings outside the function.\n",
    "\n",
    "Hint: Don't reinvent the wheel."
   ]
  },
  {
   "cell_type": "code",
   "execution_count": 4,
   "metadata": {},
   "outputs": [
    {
     "name": "stdout",
     "output_type": "stream",
     "text": [
      "Tests Passed\n"
     ]
    }
   ],
   "source": [
    "def one_hot_encode(x):\n",
    "    \"\"\"\n",
    "    One hot encode a list of sample labels. Return a one-hot encoded vector for each label.\n",
    "    : x: List of sample Labels\n",
    "    : return: Numpy array of one-hot encoded labels\n",
    "    \"\"\"\n",
    "    l = np.zeros((len(x), 10))\n",
    "    for i in range(len(x)):\n",
    "            l[i][x[i]] = 1\n",
    "    return l\n",
    "\n",
    "\n",
    "\"\"\"\n",
    "DON'T MODIFY ANYTHING IN THIS CELL THAT IS BELOW THIS LINE\n",
    "\"\"\"\n",
    "tests.test_one_hot_encode(one_hot_encode)"
   ]
  },
  {
   "cell_type": "markdown",
   "metadata": {},
   "source": [
    "### Randomize Data\n",
    "As you saw from exploring the data above, the order of the samples are randomized.  It doesn't hurt to randomize it again, but you don't need to for this dataset."
   ]
  },
  {
   "cell_type": "markdown",
   "metadata": {},
   "source": [
    "## Preprocess all the data and save it\n",
    "Running the code cell below will preprocess all the CIFAR-10 data and save it to file. The code below also uses 10% of the training data for validation."
   ]
  },
  {
   "cell_type": "code",
   "execution_count": 5,
   "metadata": {},
   "outputs": [],
   "source": [
    "\"\"\"\n",
    "DON'T MODIFY ANYTHING IN THIS CELL\n",
    "\"\"\"\n",
    "# Preprocess Training, Validation, and Testing Data\n",
    "helper.preprocess_and_save_data(cifar10_dataset_folder_path, normalize, one_hot_encode)"
   ]
  },
  {
   "cell_type": "markdown",
   "metadata": {},
   "source": [
    "# Check Point\n",
    "This is your first checkpoint.  If you ever decide to come back to this notebook or have to restart the notebook, you can start from here.  The preprocessed data has been saved to disk."
   ]
  },
  {
   "cell_type": "code",
   "execution_count": 6,
   "metadata": {
    "collapsed": true
   },
   "outputs": [],
   "source": [
    "\"\"\"\n",
    "DON'T MODIFY ANYTHING IN THIS CELL\n",
    "\"\"\"\n",
    "import pickle\n",
    "import problem_unittests as tests\n",
    "import helper\n",
    "\n",
    "# Load the Preprocessed Validation data\n",
    "valid_features, valid_labels = pickle.load(open('preprocess_validation.p', mode='rb'))"
   ]
  },
  {
   "cell_type": "markdown",
   "metadata": {},
   "source": [
    "## Build the network\n",
    "For the neural network, you'll build each layer into a function.  Most of the code you've seen has been outside of functions. To test your code more thoroughly, we require that you put each layer in a function.  This allows us to give you better feedback and test for simple mistakes using our unittests before you submit your project.\n",
    "\n",
    ">**Note:** If you're finding it hard to dedicate enough time for this course each week, we've provided a small shortcut to this part of the project. In the next couple of problems, you'll have the option to use classes from the [TensorFlow Layers](https://www.tensorflow.org/api_docs/python/tf/layers) or [TensorFlow Layers (contrib)](https://www.tensorflow.org/api_guides/python/contrib.layers) packages to build each layer, except the layers you build in the \"Convolutional and Max Pooling Layer\" section.  TF Layers is similar to Keras's and TFLearn's abstraction to layers, so it's easy to pickup.\n",
    "\n",
    ">However, if you would like to get the most out of this course, try to solve all the problems _without_ using anything from the TF Layers packages. You **can** still use classes from other packages that happen to have the same name as ones you find in TF Layers! For example, instead of using the TF Layers version of the `conv2d` class, [tf.layers.conv2d](https://www.tensorflow.org/api_docs/python/tf/layers/conv2d), you would want to use the TF Neural Network version of `conv2d`, [tf.nn.conv2d](https://www.tensorflow.org/api_docs/python/tf/nn/conv2d). \n",
    "\n",
    "Let's begin!\n",
    "\n",
    "### Input\n",
    "The neural network needs to read the image data, one-hot encoded labels, and dropout keep probability. Implement the following functions\n",
    "* Implement `neural_net_image_input`\n",
    " * Return a [TF Placeholder](https://www.tensorflow.org/api_docs/python/tf/placeholder)\n",
    " * Set the shape using `image_shape` with batch size set to `None`.\n",
    " * Name the TensorFlow placeholder \"x\" using the TensorFlow `name` parameter in the [TF Placeholder](https://www.tensorflow.org/api_docs/python/tf/placeholder).\n",
    "* Implement `neural_net_label_input`\n",
    " * Return a [TF Placeholder](https://www.tensorflow.org/api_docs/python/tf/placeholder)\n",
    " * Set the shape using `n_classes` with batch size set to `None`.\n",
    " * Name the TensorFlow placeholder \"y\" using the TensorFlow `name` parameter in the [TF Placeholder](https://www.tensorflow.org/api_docs/python/tf/placeholder).\n",
    "* Implement `neural_net_keep_prob_input`\n",
    " * Return a [TF Placeholder](https://www.tensorflow.org/api_docs/python/tf/placeholder) for dropout keep probability.\n",
    " * Name the TensorFlow placeholder \"keep_prob\" using the TensorFlow `name` parameter in the [TF Placeholder](https://www.tensorflow.org/api_docs/python/tf/placeholder).\n",
    "\n",
    "These names will be used at the end of the project to load your saved model.\n",
    "\n",
    "Note: `None` for shapes in TensorFlow allow for a dynamic size."
   ]
  },
  {
   "cell_type": "code",
   "execution_count": 7,
   "metadata": {},
   "outputs": [
    {
     "name": "stdout",
     "output_type": "stream",
     "text": [
      "Image Input Tests Passed.\n",
      "Label Input Tests Passed.\n",
      "Keep Prob Tests Passed.\n"
     ]
    }
   ],
   "source": [
    "import tensorflow as tf\n",
    "\n",
    "def neural_net_image_input(image_shape):\n",
    "    \"\"\"\n",
    "    Return a Tensor for a bach of image input\n",
    "    : image_shape: Shape of the images\n",
    "    : return: Tensor for image input.\n",
    "    \"\"\"\n",
    "    return tf.placeholder(tf.float32, shape=[None, *image_shape], name='x')\n",
    "\n",
    "\n",
    "def neural_net_label_input(n_classes):\n",
    "    \"\"\"\n",
    "    Return a Tensor for a batch of label input\n",
    "    : n_classes: Number of classes\n",
    "    : return: Tensor for label input.\n",
    "    \"\"\"\n",
    "    return tf.placeholder(tf.float32, shape=[None, n_classes], name='y')\n",
    "\n",
    "\n",
    "def neural_net_keep_prob_input():\n",
    "    \"\"\"\n",
    "    Return a Tensor for keep probability\n",
    "    : return: Tensor for keep probability.\n",
    "    \"\"\"\n",
    "    return tf.placeholder(tf.float32, name='keep_prob')\n",
    "\n",
    "\n",
    "\"\"\"\n",
    "DON'T MODIFY ANYTHING IN THIS CELL THAT IS BELOW THIS LINE\n",
    "\"\"\"\n",
    "tf.reset_default_graph()\n",
    "tests.test_nn_image_inputs(neural_net_image_input)\n",
    "tests.test_nn_label_inputs(neural_net_label_input)\n",
    "tests.test_nn_keep_prob_inputs(neural_net_keep_prob_input)"
   ]
  },
  {
   "cell_type": "markdown",
   "metadata": {},
   "source": [
    "### Convolution and Max Pooling Layer\n",
    "Convolution layers have a lot of success with images. For this code cell, you should implement the function `conv2d_maxpool` to apply convolution then max pooling:\n",
    "* Create the weight and bias using `conv_ksize`, `conv_num_outputs` and the shape of `x_tensor`.\n",
    "* Apply a convolution to `x_tensor` using weight and `conv_strides`.\n",
    " * We recommend you use same padding, but you're welcome to use any padding.\n",
    "* Add bias\n",
    "* Add a nonlinear activation to the convolution.\n",
    "* Apply Max Pooling using `pool_ksize` and `pool_strides`.\n",
    " * We recommend you use same padding, but you're welcome to use any padding.\n",
    "\n",
    "**Note:** You **can't** use [TensorFlow Layers](https://www.tensorflow.org/api_docs/python/tf/layers) or [TensorFlow Layers (contrib)](https://www.tensorflow.org/api_guides/python/contrib.layers) for **this** layer, but you can still use TensorFlow's [Neural Network](https://www.tensorflow.org/api_docs/python/tf/nn) package. You may still use the shortcut option for all the **other** layers."
   ]
  },
  {
   "cell_type": "code",
   "execution_count": 8,
   "metadata": {},
   "outputs": [
    {
     "name": "stdout",
     "output_type": "stream",
     "text": [
      "Tests Passed\n"
     ]
    }
   ],
   "source": [
    "def conv2d_maxpool(x_tensor, conv_num_outputs, conv_ksize, conv_strides, pool_ksize, pool_strides):\n",
    "    \"\"\"\n",
    "    Apply convolution then max pooling to x_tensor\n",
    "    :param x_tensor: TensorFlow Tensor\n",
    "    :param conv_num_outputs: Number of outputs for the convolutional layer\n",
    "    :param conv_ksize: kernel (patches) size 2-D Tuple for the convolutional layer\n",
    "    :param conv_strides: Stride 2-D Tuple for convolution\n",
    "    :param pool_ksize: kernel size 2-D Tuple for pool\n",
    "    :param pool_strides: Stride 2-D Tuple for pool\n",
    "    : return: A tensor that represents convolution and max pooling of x_tensor\n",
    "    \"\"\"\n",
    "    input_channel_depth = int(x_tensor.get_shape()[3])\n",
    "    # The shape of the filter weight is (height, width, input_depth, output_depth)\n",
    "    filter_weights = tf.Variable(tf.truncated_normal([*conv_ksize, input_channel_depth, conv_num_outputs], dtype=tf.float32))\n",
    "    # The shape of the biases is equal the the number of outputs of the conv layer\n",
    "    filter_biases = tf.Variable(tf.constant(0, shape=[conv_num_outputs], dtype=tf.float32))\n",
    "    \n",
    "    layer = tf.nn.conv2d(input=x_tensor, filter=filter_weights, strides=[1, *conv_strides, 1], padding='SAME')\n",
    "    layer += filter_biases\n",
    "    layer = tf.nn.max_pool(layer, [1, *pool_ksize, 1], strides=[1, *pool_strides, 1], padding='SAME')\n",
    "    return layer\n",
    "\n",
    "\n",
    "\"\"\"\n",
    "DON'T MODIFY ANYTHING IN THIS CELL THAT IS BELOW THIS LINE\n",
    "\"\"\"\n",
    "tests.test_con_pool(conv2d_maxpool)"
   ]
  },
  {
   "cell_type": "markdown",
   "metadata": {},
   "source": [
    "## <span style=\"color:red\">Questions:</span>\n",
    "> - In `tf.nn.conv2d` and `tf.nn.max_pool` I've set the first and last `strides` to 1 as the lessons told us that they must always be 1, same applies for the `pool_ksize`. But why is that? Why would we always want the first and last strides and `pool_ksize` to be 1?\n",
    "> - As for the first question, for `filter_weights` I defined the 4D tensor like this `[height, width, input_depth, output_depth]`, for the `strides` it would be something like: `[image-number, x-movement, y-movement, input-channel]` but for `pool_ksize` what does each values represent exactly? `[?, ?, ?, ?]` ?\n",
    "> - What is the point of always adding biases to our layer if they are 0? When we train our cnn only the weights will be updated right? So what is the purpose of having those biases?"
   ]
  },
  {
   "cell_type": "markdown",
   "metadata": {},
   "source": [
    "### Flatten Layer\n",
    "Implement the `flatten` function to change the dimension of `x_tensor` from a 4-D tensor to a 2-D tensor.  The output should be the shape (*Batch Size*, *Flattened Image Size*). Shortcut option: you can use classes from the [TensorFlow Layers](https://www.tensorflow.org/api_docs/python/tf/layers) or [TensorFlow Layers (contrib)](https://www.tensorflow.org/api_guides/python/contrib.layers) packages for this layer. For more of a challenge, only use other TensorFlow packages."
   ]
  },
  {
   "cell_type": "code",
   "execution_count": 9,
   "metadata": {},
   "outputs": [
    {
     "name": "stdout",
     "output_type": "stream",
     "text": [
      "Tests Passed\n"
     ]
    }
   ],
   "source": [
    "def flatten(x_tensor):\n",
    "    \"\"\"\n",
    "    Flatten x_tensor to (Batch Size, Flattened Image Size)\n",
    "    : x_tensor: A tensor of size (Batch Size, ...), where ... are the image dimensions.\n",
    "    : return: A tensor of size (Batch Size, Flattened Image Size).\n",
    "    \"\"\"\n",
    "    tensor_shape = x_tensor.get_shape()\n",
    "    total_features = tensor_shape[1:4].num_elements() # num_elements() = img_height * img_width * num_channels\n",
    "    return tf.reshape(x_tensor, [-1, total_features])\n",
    "\n",
    "\n",
    "\"\"\"\n",
    "DON'T MODIFY ANYTHING IN THIS CELL THAT IS BELOW THIS LINE\n",
    "\"\"\"\n",
    "tests.test_flatten(flatten)"
   ]
  },
  {
   "cell_type": "markdown",
   "metadata": {},
   "source": [
    "### Fully-Connected Layer\n",
    "Implement the `fully_conn` function to apply a fully connected layer to `x_tensor` with the shape (*Batch Size*, *num_outputs*). Shortcut option: you can use classes from the [TensorFlow Layers](https://www.tensorflow.org/api_docs/python/tf/layers) or [TensorFlow Layers (contrib)](https://www.tensorflow.org/api_guides/python/contrib.layers) packages for this layer. For more of a challenge, only use other TensorFlow packages."
   ]
  },
  {
   "cell_type": "code",
   "execution_count": 10,
   "metadata": {},
   "outputs": [
    {
     "name": "stdout",
     "output_type": "stream",
     "text": [
      "Tests Passed\n"
     ]
    }
   ],
   "source": [
    "def fully_conn(x_tensor, num_outputs):\n",
    "    \"\"\"\n",
    "    Apply a fully connected layer to x_tensor using weight and bias\n",
    "    : x_tensor: A 2-D tensor where the first dimension is batch size.\n",
    "    : num_outputs: The number of output that the new tensor should be.\n",
    "    : return: A 2-D tensor where the second dimension is num_outputs.\n",
    "    \"\"\"\n",
    "    num_inputs = int(x_tensor.get_shape()[1])\n",
    "    # stdev=0.1 seems to initialize weights more accurately\n",
    "    weights = tf.Variable(tf.truncated_normal([num_inputs, num_outputs], dtype=tf.float32, stddev=0.05))\n",
    "    biases = tf.Variable(tf.constant(0, shape=[num_outputs], dtype=tf.float32))\n",
    "    return tf.add(tf.matmul(x_tensor, weights), biases)\n",
    "\n",
    "\n",
    "\"\"\"\n",
    "DON'T MODIFY ANYTHING IN THIS CELL THAT IS BELOW THIS LINE\n",
    "\"\"\"\n",
    "tests.test_fully_conn(fully_conn)"
   ]
  },
  {
   "cell_type": "markdown",
   "metadata": {},
   "source": [
    "## <span style=\"color:red\">Questions:</span>\n",
    "> I added `stddev=0.05` to the weights as I saw people doing this [on some of their notebooks tutorials](https://github.com/Hvass-Labs/TensorFlow-Tutorials/blob/master/02_Convolutional_Neural_Network.ipynb). Then I ran the optimization pass and noticed a **huge** improvement in accuracy but I still cannot figure out what is actually happening, why using `stddev=0.05` for weights initialisation gives this massive performance boost?\n",
    "\n",
    "> **Answer**: The response can be found [here](https://discussions.udacity.com/t/tf-truncated-normal-informations/221986), from my own question... "
   ]
  },
  {
   "cell_type": "markdown",
   "metadata": {},
   "source": [
    "### Output Layer\n",
    "Implement the `output` function to apply a fully connected layer to `x_tensor` with the shape (*Batch Size*, *num_outputs*). Shortcut option: you can use classes from the [TensorFlow Layers](https://www.tensorflow.org/api_docs/python/tf/layers) or [TensorFlow Layers (contrib)](https://www.tensorflow.org/api_guides/python/contrib.layers) packages for this layer. For more of a challenge, only use other TensorFlow packages.\n",
    "\n",
    "**Note:** Activation, softmax, or cross entropy should **not** be applied to this."
   ]
  },
  {
   "cell_type": "code",
   "execution_count": 11,
   "metadata": {},
   "outputs": [
    {
     "name": "stdout",
     "output_type": "stream",
     "text": [
      "Tests Passed\n"
     ]
    }
   ],
   "source": [
    "def output(x_tensor, num_outputs):\n",
    "    \"\"\"\n",
    "    Apply a output layer to x_tensor using weight and bias\n",
    "    : x_tensor: A 2-D tensor where the first dimension is batch size.\n",
    "    : num_outputs: The number of output that the new tensor should be.\n",
    "    : return: A 2-D tensor where the second dimension is num_outputs.\n",
    "    \"\"\"\n",
    "    return fully_conn(x_tensor, num_outputs)\n",
    "\n",
    "\n",
    "\"\"\"\n",
    "DON'T MODIFY ANYTHING IN THIS CELL THAT IS BELOW THIS LINE\n",
    "\"\"\"\n",
    "tests.test_output(output)"
   ]
  },
  {
   "cell_type": "markdown",
   "metadata": {},
   "source": [
    "### Create Convolutional Model\n",
    "Implement the function `conv_net` to create a convolutional neural network model. The function takes in a batch of images, `x`, and outputs logits.  Use the layers you created above to create this model:\n",
    "\n",
    "* Apply 1, 2, or 3 Convolution and Max Pool layers\n",
    "* Apply a Flatten Layer\n",
    "* Apply 1, 2, or 3 Fully Connected Layers\n",
    "* Apply an Output Layer\n",
    "* Return the output\n",
    "* Apply [TensorFlow's Dropout](https://www.tensorflow.org/api_docs/python/tf/nn/dropout) to one or more layers in the model using `keep_prob`. "
   ]
  },
  {
   "cell_type": "code",
   "execution_count": 12,
   "metadata": {},
   "outputs": [
    {
     "name": "stdout",
     "output_type": "stream",
     "text": [
      "Neural Network Built!\n"
     ]
    }
   ],
   "source": [
    "def conv_net(x, keep_prob):\n",
    "    \"\"\"\n",
    "    Create a convolutional neural network model\n",
    "    : x: Placeholder tensor that holds image data.\n",
    "    : keep_prob: Placeholder tensor that hold dropout keep probability.\n",
    "    : return: Tensor that represents logits\n",
    "    \"\"\"\n",
    "    \n",
    "    # Convolutional layer\n",
    "    # Play around with different number of outputs, kernel size and stride\n",
    "    conv_strides = (1, 1)\n",
    "    conv_ksize = (3, 3) # Size of the filter HxW\n",
    "    conv_num_outputs = 10\n",
    "    pool_ksize = (3, 3)\n",
    "    pool_strides = (2, 2)\n",
    "    layer_convolutional = conv2d_maxpool(x, conv_num_outputs, conv_ksize, conv_strides, pool_ksize, pool_strides)\n",
    "    \n",
    "    # Apply some dropout\n",
    "    layer_convolutional = tf.nn.dropout(layer_convolutional, keep_prob)\n",
    "    \n",
    "    # Flatten layer\n",
    "    layer_flatten = flatten(layer_convolutional)\n",
    "    \n",
    "    # Fully connected layer\n",
    "    num_outputs = 10\n",
    "    fully_connected_layer = fully_conn(layer_flatten, num_outputs)\n",
    "    \n",
    "    # Output layer\n",
    "    output_layer = output(fully_connected_layer, 10) # 10 = Number of labels (0 to 9)\n",
    "    \n",
    "    return output_layer\n",
    "\n",
    "\n",
    "\"\"\"\n",
    "DON'T MODIFY ANYTHING IN THIS CELL THAT IS BELOW THIS LINE\n",
    "\"\"\"\n",
    "\n",
    "##############################\n",
    "## Build the Neural Network ##\n",
    "##############################\n",
    "\n",
    "# Remove previous weights, bias, inputs, etc..\n",
    "tf.reset_default_graph()\n",
    "\n",
    "# Inputs\n",
    "x = neural_net_image_input((32, 32, 3))\n",
    "y = neural_net_label_input(10)\n",
    "keep_prob = neural_net_keep_prob_input()\n",
    "\n",
    "# Model\n",
    "logits = conv_net(x, keep_prob)\n",
    "\n",
    "# Name logits Tensor, so that is can be loaded from disk after training\n",
    "logits = tf.identity(logits, name='logits')\n",
    "\n",
    "# Loss and Optimizer\n",
    "cost = tf.reduce_mean(tf.nn.softmax_cross_entropy_with_logits(logits=logits, labels=y))\n",
    "optimizer = tf.train.AdamOptimizer().minimize(cost)\n",
    "\n",
    "# Accuracy\n",
    "correct_pred = tf.equal(tf.argmax(logits, 1), tf.argmax(y, 1))\n",
    "accuracy = tf.reduce_mean(tf.cast(correct_pred, tf.float32), name='accuracy')\n",
    "\n",
    "tests.test_conv_net(conv_net)"
   ]
  },
  {
   "cell_type": "markdown",
   "metadata": {},
   "source": [
    "## <span style=\"color:red\">Questions:</span>\n",
    "> - I've set `conv_ksize`, `conv_num_outputs`, `pool_ksize` and `num_outputs` completely randomly and it worked... Any insight of what should be the best values to use here and why mine seems to be \"enough\"?\n",
    "> - I applied the dropout on the convolutional layer but is it right? I tried to apply the dropout on either the convolutional layer or the fully connected layer but I didn't notice any notable improvement on my validation set accuracy. Plus, setting the `keep_prob` to either `0.1` or `0.9` didn't change my final accuracy by much (for a difference of less than `0.1`), could you tell me why?"
   ]
  },
  {
   "cell_type": "markdown",
   "metadata": {},
   "source": [
    "## Train the Neural Network\n",
    "### Single Optimization\n",
    "Implement the function `train_neural_network` to do a single optimization.  The optimization should use `optimizer` to optimize in `session` with a `feed_dict` of the following:\n",
    "* `x` for image input\n",
    "* `y` for labels\n",
    "* `keep_prob` for keep probability for dropout\n",
    "\n",
    "This function will be called for each batch, so `tf.global_variables_initializer()` has already been called.\n",
    "\n",
    "Note: Nothing needs to be returned. This function is only optimizing the neural network."
   ]
  },
  {
   "cell_type": "code",
   "execution_count": 13,
   "metadata": {},
   "outputs": [
    {
     "name": "stdout",
     "output_type": "stream",
     "text": [
      "Tests Passed\n"
     ]
    }
   ],
   "source": [
    "def train_neural_network(session, optimizer, keep_probability, feature_batch, label_batch):\n",
    "    \"\"\"\n",
    "    Optimize the session on a batch of images and labels\n",
    "    : session: Current TensorFlow session\n",
    "    : optimizer: TensorFlow optimizer function\n",
    "    : keep_probability: keep probability\n",
    "    : feature_batch: Batch of Numpy image data\n",
    "    : label_batch: Batch of Numpy label data\n",
    "    \"\"\"\n",
    "    feed_dict_train = {x: feature_batch, y: label_batch, keep_prob: keep_probability}\n",
    "    session.run(optimizer, feed_dict=feed_dict_train)\n",
    "\n",
    "\n",
    "\"\"\"\n",
    "DON'T MODIFY ANYTHING IN THIS CELL THAT IS BELOW THIS LINE\n",
    "\"\"\"\n",
    "tests.test_train_nn(train_neural_network)"
   ]
  },
  {
   "cell_type": "markdown",
   "metadata": {},
   "source": [
    "### Show Stats\n",
    "Implement the function `print_stats` to print loss and validation accuracy.  Use the global variables `valid_features` and `valid_labels` to calculate validation accuracy.  Use a keep probability of `1.0` to calculate the loss and validation accuracy."
   ]
  },
  {
   "cell_type": "code",
   "execution_count": 14,
   "metadata": {},
   "outputs": [],
   "source": [
    "def print_stats(session, feature_batch, label_batch, cost, accuracy):\n",
    "    \"\"\"\n",
    "    Print information about loss and validation accuracy\n",
    "    : session: Current TensorFlow session\n",
    "    : feature_batch: Batch of Numpy image data\n",
    "    : label_batch: Batch of Numpy label data\n",
    "    : cost: TensorFlow cost function\n",
    "    : accuracy: TensorFlow accuracy function\n",
    "    \"\"\"\n",
    "    training_accuracy_result = session.run(accuracy, feed_dict={x: feature_batch, y: label_batch, keep_prob: 1.0})\n",
    "    training_cost_result = session.run(cost, feed_dict={x: feature_batch, y: label_batch, keep_prob: 1.0})\n",
    "    \n",
    "    validation_accuracy_result = session.run(accuracy, feed_dict={x: valid_features, y: valid_labels, keep_prob: 1.0})\n",
    "    validation_cost_result = session.run(cost, feed_dict={x: valid_features, y: valid_labels, keep_prob: 1.0})\n",
    "    \n",
    "    print(\"Train acc: {:0.4f}, Train cost: {:0.4f}\\tVal acc: {:0.4f}, Val cost: {:0.4f}\"\n",
    "          .format(training_accuracy_result, training_cost_result, validation_accuracy_result, validation_cost_result))"
   ]
  },
  {
   "cell_type": "markdown",
   "metadata": {},
   "source": [
    "### Hyperparameters\n",
    "Tune the following parameters:\n",
    "* Set `epochs` to the number of iterations until the network stops learning or start overfitting\n",
    "* Set `batch_size` to the highest number that your machine has memory for.  Most people set them to common sizes of memory:\n",
    " * 64\n",
    " * 128\n",
    " * 256\n",
    " * ...\n",
    "* Set `keep_probability` to the probability of keeping a node using dropout"
   ]
  },
  {
   "cell_type": "code",
   "execution_count": 15,
   "metadata": {
    "collapsed": true
   },
   "outputs": [],
   "source": [
    "# TODO: Tune Parameters\n",
    "epochs = 50\n",
    "batch_size = 256\n",
    "keep_probability = 0.6"
   ]
  },
  {
   "cell_type": "markdown",
   "metadata": {},
   "source": [
    "### Train on a Single CIFAR-10 Batch\n",
    "Instead of training the neural network on all the CIFAR-10 batches of data, let's use a single batch. This should save time while you iterate on the model to get a better accuracy.  Once the final validation accuracy is 50% or greater, run the model on all the data in the next section."
   ]
  },
  {
   "cell_type": "code",
   "execution_count": 16,
   "metadata": {},
   "outputs": [
    {
     "name": "stdout",
     "output_type": "stream",
     "text": [
      "Checking the Training on a Single Batch...\n",
      "Epoch  1, CIFAR-10 Batch 1:  Train acc: 0.1750, Train cost: 2.2522\tVal acc: 0.2124, Val cost: 2.1409\n",
      "Epoch  2, CIFAR-10 Batch 1:  Train acc: 0.2250, Train cost: 2.1640\tVal acc: 0.2884, Val cost: 2.0065\n",
      "Epoch  3, CIFAR-10 Batch 1:  Train acc: 0.2250, Train cost: 2.0928\tVal acc: 0.3030, Val cost: 1.9179\n",
      "Epoch  4, CIFAR-10 Batch 1:  Train acc: 0.2250, Train cost: 2.0571\tVal acc: 0.3160, Val cost: 1.8790\n",
      "Epoch  5, CIFAR-10 Batch 1:  Train acc: 0.2250, Train cost: 2.0377\tVal acc: 0.3328, Val cost: 1.8444\n",
      "Epoch  6, CIFAR-10 Batch 1:  Train acc: 0.2500, Train cost: 2.0080\tVal acc: 0.3444, Val cost: 1.8211\n",
      "Epoch  7, CIFAR-10 Batch 1:  Train acc: 0.3250, Train cost: 1.9757\tVal acc: 0.3562, Val cost: 1.8021\n",
      "Epoch  8, CIFAR-10 Batch 1:  Train acc: 0.3500, Train cost: 1.9391\tVal acc: 0.3606, Val cost: 1.7803\n",
      "Epoch  9, CIFAR-10 Batch 1:  Train acc: 0.3750, Train cost: 1.9110\tVal acc: 0.3750, Val cost: 1.7556\n",
      "Epoch 10, CIFAR-10 Batch 1:  Train acc: 0.3750, Train cost: 1.8689\tVal acc: 0.3786, Val cost: 1.7363\n",
      "Epoch 11, CIFAR-10 Batch 1:  Train acc: 0.3750, Train cost: 1.8160\tVal acc: 0.3890, Val cost: 1.7147\n",
      "Epoch 12, CIFAR-10 Batch 1:  Train acc: 0.3750, Train cost: 1.7738\tVal acc: 0.3972, Val cost: 1.6992\n",
      "Epoch 13, CIFAR-10 Batch 1:  Train acc: 0.3750, Train cost: 1.7388\tVal acc: 0.3982, Val cost: 1.6853\n",
      "Epoch 14, CIFAR-10 Batch 1:  Train acc: 0.3750, Train cost: 1.6966\tVal acc: 0.4144, Val cost: 1.6591\n",
      "Epoch 15, CIFAR-10 Batch 1:  Train acc: 0.4250, Train cost: 1.6526\tVal acc: 0.4154, Val cost: 1.6456\n",
      "Epoch 16, CIFAR-10 Batch 1:  Train acc: 0.4250, Train cost: 1.6301\tVal acc: 0.4258, Val cost: 1.6313\n",
      "Epoch 17, CIFAR-10 Batch 1:  Train acc: 0.4500, Train cost: 1.5879\tVal acc: 0.4322, Val cost: 1.6177\n",
      "Epoch 18, CIFAR-10 Batch 1:  Train acc: 0.4750, Train cost: 1.5570\tVal acc: 0.4350, Val cost: 1.6132\n",
      "Epoch 19, CIFAR-10 Batch 1:  Train acc: 0.5500, Train cost: 1.5278\tVal acc: 0.4390, Val cost: 1.6022\n",
      "Epoch 20, CIFAR-10 Batch 1:  Train acc: 0.5750, Train cost: 1.4882\tVal acc: 0.4434, Val cost: 1.5842\n",
      "Epoch 21, CIFAR-10 Batch 1:  Train acc: 0.5500, Train cost: 1.4629\tVal acc: 0.4464, Val cost: 1.5793\n",
      "Epoch 22, CIFAR-10 Batch 1:  Train acc: 0.6000, Train cost: 1.4381\tVal acc: 0.4478, Val cost: 1.5694\n",
      "Epoch 23, CIFAR-10 Batch 1:  Train acc: 0.6250, Train cost: 1.4177\tVal acc: 0.4506, Val cost: 1.5607\n",
      "Epoch 24, CIFAR-10 Batch 1:  Train acc: 0.6000, Train cost: 1.3722\tVal acc: 0.4600, Val cost: 1.5476\n",
      "Epoch 25, CIFAR-10 Batch 1:  Train acc: 0.6000, Train cost: 1.3439\tVal acc: 0.4582, Val cost: 1.5388\n",
      "Epoch 26, CIFAR-10 Batch 1:  Train acc: 0.6000, Train cost: 1.3163\tVal acc: 0.4592, Val cost: 1.5310\n",
      "Epoch 27, CIFAR-10 Batch 1:  Train acc: 0.6000, Train cost: 1.2776\tVal acc: 0.4590, Val cost: 1.5207\n",
      "Epoch 28, CIFAR-10 Batch 1:  Train acc: 0.6000, Train cost: 1.2592\tVal acc: 0.4614, Val cost: 1.5186\n",
      "Epoch 29, CIFAR-10 Batch 1:  Train acc: 0.6250, Train cost: 1.2256\tVal acc: 0.4672, Val cost: 1.5062\n",
      "Epoch 30, CIFAR-10 Batch 1:  Train acc: 0.6750, Train cost: 1.1996\tVal acc: 0.4680, Val cost: 1.4982\n",
      "Epoch 31, CIFAR-10 Batch 1:  Train acc: 0.7000, Train cost: 1.1713\tVal acc: 0.4714, Val cost: 1.4917\n",
      "Epoch 32, CIFAR-10 Batch 1:  Train acc: 0.7250, Train cost: 1.1612\tVal acc: 0.4732, Val cost: 1.4865\n",
      "Epoch 33, CIFAR-10 Batch 1:  Train acc: 0.7250, Train cost: 1.1327\tVal acc: 0.4774, Val cost: 1.4784\n",
      "Epoch 34, CIFAR-10 Batch 1:  Train acc: 0.7500, Train cost: 1.1105\tVal acc: 0.4802, Val cost: 1.4706\n",
      "Epoch 35, CIFAR-10 Batch 1:  Train acc: 0.7500, Train cost: 1.0788\tVal acc: 0.4830, Val cost: 1.4623\n",
      "Epoch 36, CIFAR-10 Batch 1:  Train acc: 0.7500, Train cost: 1.0682\tVal acc: 0.4852, Val cost: 1.4588\n",
      "Epoch 37, CIFAR-10 Batch 1:  Train acc: 0.7500, Train cost: 1.0363\tVal acc: 0.4858, Val cost: 1.4530\n",
      "Epoch 38, CIFAR-10 Batch 1:  Train acc: 0.7500, Train cost: 1.0163\tVal acc: 0.4884, Val cost: 1.4485\n",
      "Epoch 39, CIFAR-10 Batch 1:  Train acc: 0.7500, Train cost: 1.0005\tVal acc: 0.4910, Val cost: 1.4426\n",
      "Epoch 40, CIFAR-10 Batch 1:  Train acc: 0.7750, Train cost: 0.9843\tVal acc: 0.4908, Val cost: 1.4368\n",
      "Epoch 41, CIFAR-10 Batch 1:  Train acc: 0.7500, Train cost: 0.9619\tVal acc: 0.4926, Val cost: 1.4324\n",
      "Epoch 42, CIFAR-10 Batch 1:  Train acc: 0.7750, Train cost: 0.9477\tVal acc: 0.4958, Val cost: 1.4276\n",
      "Epoch 43, CIFAR-10 Batch 1:  Train acc: 0.7500, Train cost: 0.9344\tVal acc: 0.4970, Val cost: 1.4278\n",
      "Epoch 44, CIFAR-10 Batch 1:  Train acc: 0.7250, Train cost: 0.9067\tVal acc: 0.4982, Val cost: 1.4225\n",
      "Epoch 45, CIFAR-10 Batch 1:  Train acc: 0.7500, Train cost: 0.8889\tVal acc: 0.4998, Val cost: 1.4189\n",
      "Epoch 46, CIFAR-10 Batch 1:  Train acc: 0.8250, Train cost: 0.8702\tVal acc: 0.5012, Val cost: 1.4145\n",
      "Epoch 47, CIFAR-10 Batch 1:  Train acc: 0.8250, Train cost: 0.8509\tVal acc: 0.5032, Val cost: 1.4118\n",
      "Epoch 48, CIFAR-10 Batch 1:  Train acc: 0.8500, Train cost: 0.8301\tVal acc: 0.5034, Val cost: 1.4122\n",
      "Epoch 49, CIFAR-10 Batch 1:  Train acc: 0.8250, Train cost: 0.8357\tVal acc: 0.5032, Val cost: 1.4089\n",
      "Epoch 50, CIFAR-10 Batch 1:  Train acc: 0.8250, Train cost: 0.8160\tVal acc: 0.5104, Val cost: 1.4048\n"
     ]
    }
   ],
   "source": [
    "\"\"\"\n",
    "DON'T MODIFY ANYTHING IN THIS CELL\n",
    "\"\"\"\n",
    "print('Checking the Training on a Single Batch...')\n",
    "with tf.Session() as sess:\n",
    "    # Initializing the variables\n",
    "    sess.run(tf.global_variables_initializer())\n",
    "    \n",
    "    # Training cycle\n",
    "    for epoch in range(epochs):\n",
    "        batch_i = 1\n",
    "        for batch_features, batch_labels in helper.load_preprocess_training_batch(batch_i, batch_size):\n",
    "            train_neural_network(sess, optimizer, keep_probability, batch_features, batch_labels)\n",
    "        print('Epoch {:>2}, CIFAR-10 Batch {}:  '.format(epoch + 1, batch_i), end='')\n",
    "        print_stats(sess, batch_features, batch_labels, cost, accuracy)"
   ]
  },
  {
   "cell_type": "markdown",
   "metadata": {},
   "source": [
    "## <span style=\"color:red\">Questions:</span>\n",
    "> I've started by setting the `batch_size` to 5120 as you said: \"*Set batch_size to the highest number that your machine has memory for*\", I have a GTX 1070/8gb of GPU RAM and 32gb of RAM. But I noticed that my validation accuracy was actually increasing more slowly and then dropping at some point (I guess because of overfit), using a `batch_size` of 256 instead resolved the issue. Could you explain to me why?"
   ]
  },
  {
   "cell_type": "markdown",
   "metadata": {},
   "source": [
    "### Fully Train the Model\n",
    "Now that you got a good accuracy with a single CIFAR-10 batch, try it with all five batches."
   ]
  },
  {
   "cell_type": "code",
   "execution_count": 17,
   "metadata": {},
   "outputs": [
    {
     "name": "stdout",
     "output_type": "stream",
     "text": [
      "Training...\n",
      "Epoch  1, CIFAR-10 Batch 1:  Train acc: 0.2750, Train cost: 2.1563\tVal acc: 0.2716, Val cost: 2.0459\n",
      "Epoch  1, CIFAR-10 Batch 2:  Train acc: 0.3250, Train cost: 1.9906\tVal acc: 0.3290, Val cost: 1.9099\n",
      "Epoch  1, CIFAR-10 Batch 3:  Train acc: 0.3500, Train cost: 1.8341\tVal acc: 0.3528, Val cost: 1.8183\n",
      "Epoch  1, CIFAR-10 Batch 4:  Train acc: 0.4000, Train cost: 1.7330\tVal acc: 0.3714, Val cost: 1.7768\n",
      "Epoch  1, CIFAR-10 Batch 5:  Train acc: 0.4250, Train cost: 1.8084\tVal acc: 0.3900, Val cost: 1.7196\n",
      "Epoch  2, CIFAR-10 Batch 1:  Train acc: 0.4000, Train cost: 1.8718\tVal acc: 0.4010, Val cost: 1.6936\n",
      "Epoch  2, CIFAR-10 Batch 2:  Train acc: 0.4750, Train cost: 1.6611\tVal acc: 0.4144, Val cost: 1.6651\n",
      "Epoch  2, CIFAR-10 Batch 3:  Train acc: 0.5000, Train cost: 1.6154\tVal acc: 0.4184, Val cost: 1.6407\n",
      "Epoch  2, CIFAR-10 Batch 4:  Train acc: 0.4500, Train cost: 1.5991\tVal acc: 0.4290, Val cost: 1.6146\n",
      "Epoch  2, CIFAR-10 Batch 5:  Train acc: 0.4750, Train cost: 1.6967\tVal acc: 0.4366, Val cost: 1.6000\n",
      "Epoch  3, CIFAR-10 Batch 1:  Train acc: 0.4250, Train cost: 1.7541\tVal acc: 0.4368, Val cost: 1.5909\n",
      "Epoch  3, CIFAR-10 Batch 2:  Train acc: 0.5000, Train cost: 1.5169\tVal acc: 0.4440, Val cost: 1.5822\n",
      "Epoch  3, CIFAR-10 Batch 3:  Train acc: 0.6000, Train cost: 1.4807\tVal acc: 0.4514, Val cost: 1.5574\n",
      "Epoch  3, CIFAR-10 Batch 4:  Train acc: 0.5000, Train cost: 1.4968\tVal acc: 0.4582, Val cost: 1.5372\n",
      "Epoch  3, CIFAR-10 Batch 5:  Train acc: 0.4750, Train cost: 1.5921\tVal acc: 0.4608, Val cost: 1.5252\n",
      "Epoch  4, CIFAR-10 Batch 1:  Train acc: 0.4250, Train cost: 1.6629\tVal acc: 0.4582, Val cost: 1.5265\n",
      "Epoch  4, CIFAR-10 Batch 2:  Train acc: 0.4750, Train cost: 1.3979\tVal acc: 0.4760, Val cost: 1.5070\n",
      "Epoch  4, CIFAR-10 Batch 3:  Train acc: 0.5500, Train cost: 1.3743\tVal acc: 0.4800, Val cost: 1.4904\n",
      "Epoch  4, CIFAR-10 Batch 4:  Train acc: 0.5500, Train cost: 1.3794\tVal acc: 0.4856, Val cost: 1.4773\n",
      "Epoch  4, CIFAR-10 Batch 5:  Train acc: 0.5250, Train cost: 1.4992\tVal acc: 0.4900, Val cost: 1.4663\n",
      "Epoch  5, CIFAR-10 Batch 1:  Train acc: 0.4750, Train cost: 1.5558\tVal acc: 0.4848, Val cost: 1.4643\n",
      "Epoch  5, CIFAR-10 Batch 2:  Train acc: 0.5500, Train cost: 1.2825\tVal acc: 0.4988, Val cost: 1.4469\n",
      "Epoch  5, CIFAR-10 Batch 3:  Train acc: 0.5500, Train cost: 1.2861\tVal acc: 0.5046, Val cost: 1.4340\n",
      "Epoch  5, CIFAR-10 Batch 4:  Train acc: 0.5750, Train cost: 1.2747\tVal acc: 0.5044, Val cost: 1.4246\n",
      "Epoch  5, CIFAR-10 Batch 5:  Train acc: 0.5250, Train cost: 1.4271\tVal acc: 0.5096, Val cost: 1.4196\n",
      "Epoch  6, CIFAR-10 Batch 1:  Train acc: 0.5000, Train cost: 1.4782\tVal acc: 0.5082, Val cost: 1.4091\n",
      "Epoch  6, CIFAR-10 Batch 2:  Train acc: 0.6500, Train cost: 1.1852\tVal acc: 0.5210, Val cost: 1.3997\n",
      "Epoch  6, CIFAR-10 Batch 3:  Train acc: 0.6000, Train cost: 1.2003\tVal acc: 0.5210, Val cost: 1.3902\n",
      "Epoch  6, CIFAR-10 Batch 4:  Train acc: 0.6000, Train cost: 1.1813\tVal acc: 0.5254, Val cost: 1.3816\n",
      "Epoch  6, CIFAR-10 Batch 5:  Train acc: 0.5500, Train cost: 1.3523\tVal acc: 0.5236, Val cost: 1.3778\n",
      "Epoch  7, CIFAR-10 Batch 1:  Train acc: 0.5500, Train cost: 1.3990\tVal acc: 0.5264, Val cost: 1.3664\n",
      "Epoch  7, CIFAR-10 Batch 2:  Train acc: 0.6750, Train cost: 1.1113\tVal acc: 0.5332, Val cost: 1.3641\n",
      "Epoch  7, CIFAR-10 Batch 3:  Train acc: 0.6250, Train cost: 1.1307\tVal acc: 0.5412, Val cost: 1.3541\n",
      "Epoch  7, CIFAR-10 Batch 4:  Train acc: 0.6500, Train cost: 1.1153\tVal acc: 0.5366, Val cost: 1.3424\n",
      "Epoch  7, CIFAR-10 Batch 5:  Train acc: 0.6000, Train cost: 1.2832\tVal acc: 0.5366, Val cost: 1.3454\n",
      "Epoch  8, CIFAR-10 Batch 1:  Train acc: 0.5500, Train cost: 1.3399\tVal acc: 0.5416, Val cost: 1.3284\n",
      "Epoch  8, CIFAR-10 Batch 2:  Train acc: 0.7000, Train cost: 1.0416\tVal acc: 0.5416, Val cost: 1.3372\n",
      "Epoch  8, CIFAR-10 Batch 3:  Train acc: 0.6500, Train cost: 1.0520\tVal acc: 0.5464, Val cost: 1.3202\n",
      "Epoch  8, CIFAR-10 Batch 4:  Train acc: 0.6750, Train cost: 1.0432\tVal acc: 0.5524, Val cost: 1.3098\n",
      "Epoch  8, CIFAR-10 Batch 5:  Train acc: 0.6250, Train cost: 1.2137\tVal acc: 0.5492, Val cost: 1.3125\n",
      "Epoch  9, CIFAR-10 Batch 1:  Train acc: 0.6000, Train cost: 1.2768\tVal acc: 0.5488, Val cost: 1.2980\n",
      "Epoch  9, CIFAR-10 Batch 2:  Train acc: 0.7500, Train cost: 0.9864\tVal acc: 0.5578, Val cost: 1.3019\n",
      "Epoch  9, CIFAR-10 Batch 3:  Train acc: 0.6500, Train cost: 0.9982\tVal acc: 0.5558, Val cost: 1.2957\n",
      "Epoch  9, CIFAR-10 Batch 4:  Train acc: 0.7500, Train cost: 0.9897\tVal acc: 0.5618, Val cost: 1.2848\n",
      "Epoch  9, CIFAR-10 Batch 5:  Train acc: 0.6750, Train cost: 1.1539\tVal acc: 0.5570, Val cost: 1.2887\n",
      "Epoch 10, CIFAR-10 Batch 1:  Train acc: 0.6250, Train cost: 1.2239\tVal acc: 0.5612, Val cost: 1.2773\n",
      "Epoch 10, CIFAR-10 Batch 2:  Train acc: 0.7500, Train cost: 0.9389\tVal acc: 0.5594, Val cost: 1.2823\n",
      "Epoch 10, CIFAR-10 Batch 3:  Train acc: 0.6750, Train cost: 0.9658\tVal acc: 0.5604, Val cost: 1.2839\n",
      "Epoch 10, CIFAR-10 Batch 4:  Train acc: 0.7750, Train cost: 0.9286\tVal acc: 0.5644, Val cost: 1.2654\n",
      "Epoch 10, CIFAR-10 Batch 5:  Train acc: 0.6750, Train cost: 1.1106\tVal acc: 0.5576, Val cost: 1.2761\n",
      "Epoch 11, CIFAR-10 Batch 1:  Train acc: 0.6000, Train cost: 1.1986\tVal acc: 0.5678, Val cost: 1.2559\n",
      "Epoch 11, CIFAR-10 Batch 2:  Train acc: 0.7500, Train cost: 0.9049\tVal acc: 0.5668, Val cost: 1.2636\n",
      "Epoch 11, CIFAR-10 Batch 3:  Train acc: 0.6750, Train cost: 0.9427\tVal acc: 0.5696, Val cost: 1.2588\n",
      "Epoch 11, CIFAR-10 Batch 4:  Train acc: 0.7500, Train cost: 0.8958\tVal acc: 0.5730, Val cost: 1.2494\n",
      "Epoch 11, CIFAR-10 Batch 5:  Train acc: 0.7250, Train cost: 1.0845\tVal acc: 0.5702, Val cost: 1.2527\n",
      "Epoch 12, CIFAR-10 Batch 1:  Train acc: 0.6500, Train cost: 1.1641\tVal acc: 0.5728, Val cost: 1.2430\n",
      "Epoch 12, CIFAR-10 Batch 2:  Train acc: 0.7500, Train cost: 0.8632\tVal acc: 0.5678, Val cost: 1.2658\n",
      "Epoch 12, CIFAR-10 Batch 3:  Train acc: 0.6750, Train cost: 0.9222\tVal acc: 0.5710, Val cost: 1.2496\n",
      "Epoch 12, CIFAR-10 Batch 4:  Train acc: 0.7500, Train cost: 0.8426\tVal acc: 0.5764, Val cost: 1.2371\n",
      "Epoch 12, CIFAR-10 Batch 5:  Train acc: 0.7250, Train cost: 1.0448\tVal acc: 0.5712, Val cost: 1.2411\n",
      "Epoch 13, CIFAR-10 Batch 1:  Train acc: 0.6500, Train cost: 1.1490\tVal acc: 0.5778, Val cost: 1.2384\n",
      "Epoch 13, CIFAR-10 Batch 2:  Train acc: 0.7750, Train cost: 0.8238\tVal acc: 0.5766, Val cost: 1.2450\n",
      "Epoch 13, CIFAR-10 Batch 3:  Train acc: 0.7250, Train cost: 0.9110\tVal acc: 0.5768, Val cost: 1.2413\n",
      "Epoch 13, CIFAR-10 Batch 4:  Train acc: 0.7750, Train cost: 0.8170\tVal acc: 0.5796, Val cost: 1.2296\n",
      "Epoch 13, CIFAR-10 Batch 5:  Train acc: 0.7500, Train cost: 1.0132\tVal acc: 0.5768, Val cost: 1.2348\n",
      "Epoch 14, CIFAR-10 Batch 1:  Train acc: 0.6500, Train cost: 1.1082\tVal acc: 0.5830, Val cost: 1.2255\n",
      "Epoch 14, CIFAR-10 Batch 2:  Train acc: 0.7500, Train cost: 0.8243\tVal acc: 0.5798, Val cost: 1.2405\n",
      "Epoch 14, CIFAR-10 Batch 3:  Train acc: 0.7000, Train cost: 0.8976\tVal acc: 0.5814, Val cost: 1.2309\n",
      "Epoch 14, CIFAR-10 Batch 4:  Train acc: 0.8500, Train cost: 0.7880\tVal acc: 0.5814, Val cost: 1.2216\n",
      "Epoch 14, CIFAR-10 Batch 5:  Train acc: 0.7250, Train cost: 0.9883\tVal acc: 0.5786, Val cost: 1.2226\n",
      "Epoch 15, CIFAR-10 Batch 1:  Train acc: 0.6500, Train cost: 1.0680\tVal acc: 0.5854, Val cost: 1.2178\n",
      "Epoch 15, CIFAR-10 Batch 2:  Train acc: 0.7750, Train cost: 0.7991\tVal acc: 0.5802, Val cost: 1.2376\n",
      "Epoch 15, CIFAR-10 Batch 3:  Train acc: 0.7250, Train cost: 0.8675\tVal acc: 0.5840, Val cost: 1.2193\n",
      "Epoch 15, CIFAR-10 Batch 4:  Train acc: 0.8250, Train cost: 0.7724\tVal acc: 0.5864, Val cost: 1.2092\n",
      "Epoch 15, CIFAR-10 Batch 5:  Train acc: 0.7000, Train cost: 0.9520\tVal acc: 0.5812, Val cost: 1.2183\n",
      "Epoch 16, CIFAR-10 Batch 1:  Train acc: 0.6500, Train cost: 1.0562\tVal acc: 0.5908, Val cost: 1.2115\n",
      "Epoch 16, CIFAR-10 Batch 2:  Train acc: 0.7750, Train cost: 0.7834\tVal acc: 0.5810, Val cost: 1.2275\n",
      "Epoch 16, CIFAR-10 Batch 3:  Train acc: 0.7000, Train cost: 0.8511\tVal acc: 0.5842, Val cost: 1.2153\n",
      "Epoch 16, CIFAR-10 Batch 4:  Train acc: 0.8500, Train cost: 0.7581\tVal acc: 0.5862, Val cost: 1.2044\n",
      "Epoch 16, CIFAR-10 Batch 5:  Train acc: 0.7000, Train cost: 0.9373\tVal acc: 0.5842, Val cost: 1.2124\n",
      "Epoch 17, CIFAR-10 Batch 1:  Train acc: 0.6750, Train cost: 1.0470\tVal acc: 0.5916, Val cost: 1.2110\n"
     ]
    },
    {
     "name": "stdout",
     "output_type": "stream",
     "text": [
      "Epoch 17, CIFAR-10 Batch 2:  Train acc: 0.8000, Train cost: 0.7594\tVal acc: 0.5850, Val cost: 1.2229\n",
      "Epoch 17, CIFAR-10 Batch 3:  Train acc: 0.7250, Train cost: 0.8371\tVal acc: 0.5898, Val cost: 1.2087\n",
      "Epoch 17, CIFAR-10 Batch 4:  Train acc: 0.7750, Train cost: 0.7409\tVal acc: 0.5902, Val cost: 1.1991\n",
      "Epoch 17, CIFAR-10 Batch 5:  Train acc: 0.7000, Train cost: 0.9176\tVal acc: 0.5870, Val cost: 1.2066\n",
      "Epoch 18, CIFAR-10 Batch 1:  Train acc: 0.6500, Train cost: 1.0048\tVal acc: 0.5946, Val cost: 1.2046\n",
      "Epoch 18, CIFAR-10 Batch 2:  Train acc: 0.8500, Train cost: 0.7520\tVal acc: 0.5866, Val cost: 1.2147\n",
      "Epoch 18, CIFAR-10 Batch 3:  Train acc: 0.7250, Train cost: 0.8299\tVal acc: 0.5902, Val cost: 1.2037\n",
      "Epoch 18, CIFAR-10 Batch 4:  Train acc: 0.8000, Train cost: 0.7295\tVal acc: 0.5904, Val cost: 1.1957\n",
      "Epoch 18, CIFAR-10 Batch 5:  Train acc: 0.7750, Train cost: 0.8991\tVal acc: 0.5890, Val cost: 1.2041\n",
      "Epoch 19, CIFAR-10 Batch 1:  Train acc: 0.6750, Train cost: 0.9696\tVal acc: 0.5966, Val cost: 1.1964\n",
      "Epoch 19, CIFAR-10 Batch 2:  Train acc: 0.8500, Train cost: 0.7368\tVal acc: 0.5870, Val cost: 1.2129\n",
      "Epoch 19, CIFAR-10 Batch 3:  Train acc: 0.7750, Train cost: 0.8131\tVal acc: 0.5896, Val cost: 1.1980\n",
      "Epoch 19, CIFAR-10 Batch 4:  Train acc: 0.8750, Train cost: 0.7141\tVal acc: 0.5948, Val cost: 1.1922\n",
      "Epoch 19, CIFAR-10 Batch 5:  Train acc: 0.7750, Train cost: 0.8993\tVal acc: 0.5906, Val cost: 1.1958\n",
      "Epoch 20, CIFAR-10 Batch 1:  Train acc: 0.6750, Train cost: 0.9694\tVal acc: 0.5918, Val cost: 1.1967\n",
      "Epoch 20, CIFAR-10 Batch 2:  Train acc: 0.8250, Train cost: 0.7297\tVal acc: 0.5888, Val cost: 1.2082\n",
      "Epoch 20, CIFAR-10 Batch 3:  Train acc: 0.8000, Train cost: 0.7784\tVal acc: 0.5926, Val cost: 1.1917\n",
      "Epoch 20, CIFAR-10 Batch 4:  Train acc: 0.8750, Train cost: 0.7023\tVal acc: 0.5928, Val cost: 1.1891\n",
      "Epoch 20, CIFAR-10 Batch 5:  Train acc: 0.7750, Train cost: 0.8858\tVal acc: 0.5932, Val cost: 1.1916\n",
      "Epoch 21, CIFAR-10 Batch 1:  Train acc: 0.7000, Train cost: 0.9461\tVal acc: 0.5940, Val cost: 1.1886\n",
      "Epoch 21, CIFAR-10 Batch 2:  Train acc: 0.8500, Train cost: 0.7117\tVal acc: 0.5898, Val cost: 1.2080\n",
      "Epoch 21, CIFAR-10 Batch 3:  Train acc: 0.8000, Train cost: 0.7736\tVal acc: 0.5956, Val cost: 1.1878\n",
      "Epoch 21, CIFAR-10 Batch 4:  Train acc: 0.8250, Train cost: 0.7062\tVal acc: 0.5954, Val cost: 1.1814\n",
      "Epoch 21, CIFAR-10 Batch 5:  Train acc: 0.7750, Train cost: 0.8764\tVal acc: 0.5906, Val cost: 1.1877\n",
      "Epoch 22, CIFAR-10 Batch 1:  Train acc: 0.7000, Train cost: 0.9475\tVal acc: 0.5948, Val cost: 1.1940\n",
      "Epoch 22, CIFAR-10 Batch 2:  Train acc: 0.8750, Train cost: 0.6948\tVal acc: 0.5912, Val cost: 1.1970\n",
      "Epoch 22, CIFAR-10 Batch 3:  Train acc: 0.8000, Train cost: 0.7892\tVal acc: 0.5970, Val cost: 1.1847\n",
      "Epoch 22, CIFAR-10 Batch 4:  Train acc: 0.8500, Train cost: 0.6799\tVal acc: 0.5950, Val cost: 1.1803\n",
      "Epoch 22, CIFAR-10 Batch 5:  Train acc: 0.7500, Train cost: 0.8771\tVal acc: 0.5930, Val cost: 1.1855\n",
      "Epoch 23, CIFAR-10 Batch 1:  Train acc: 0.7250, Train cost: 0.9231\tVal acc: 0.5956, Val cost: 1.1869\n",
      "Epoch 23, CIFAR-10 Batch 2:  Train acc: 0.9000, Train cost: 0.6844\tVal acc: 0.5950, Val cost: 1.1936\n",
      "Epoch 23, CIFAR-10 Batch 3:  Train acc: 0.8250, Train cost: 0.7781\tVal acc: 0.5994, Val cost: 1.1806\n",
      "Epoch 23, CIFAR-10 Batch 4:  Train acc: 0.8750, Train cost: 0.6695\tVal acc: 0.5990, Val cost: 1.1758\n",
      "Epoch 23, CIFAR-10 Batch 5:  Train acc: 0.7750, Train cost: 0.8653\tVal acc: 0.5960, Val cost: 1.1806\n",
      "Epoch 24, CIFAR-10 Batch 1:  Train acc: 0.7250, Train cost: 0.9012\tVal acc: 0.6002, Val cost: 1.1827\n",
      "Epoch 24, CIFAR-10 Batch 2:  Train acc: 0.8750, Train cost: 0.6814\tVal acc: 0.5926, Val cost: 1.1886\n",
      "Epoch 24, CIFAR-10 Batch 3:  Train acc: 0.7750, Train cost: 0.7677\tVal acc: 0.5988, Val cost: 1.1789\n",
      "Epoch 24, CIFAR-10 Batch 4:  Train acc: 0.8750, Train cost: 0.6811\tVal acc: 0.5918, Val cost: 1.1769\n",
      "Epoch 24, CIFAR-10 Batch 5:  Train acc: 0.7500, Train cost: 0.8563\tVal acc: 0.5960, Val cost: 1.1788\n",
      "Epoch 25, CIFAR-10 Batch 1:  Train acc: 0.7000, Train cost: 0.8999\tVal acc: 0.5992, Val cost: 1.1784\n",
      "Epoch 25, CIFAR-10 Batch 2:  Train acc: 0.8750, Train cost: 0.6763\tVal acc: 0.5928, Val cost: 1.1954\n",
      "Epoch 25, CIFAR-10 Batch 3:  Train acc: 0.7750, Train cost: 0.7629\tVal acc: 0.5974, Val cost: 1.1755\n",
      "Epoch 25, CIFAR-10 Batch 4:  Train acc: 0.8750, Train cost: 0.6554\tVal acc: 0.5966, Val cost: 1.1700\n",
      "Epoch 25, CIFAR-10 Batch 5:  Train acc: 0.7750, Train cost: 0.8374\tVal acc: 0.5942, Val cost: 1.1775\n",
      "Epoch 26, CIFAR-10 Batch 1:  Train acc: 0.7250, Train cost: 0.8886\tVal acc: 0.6036, Val cost: 1.1772\n",
      "Epoch 26, CIFAR-10 Batch 2:  Train acc: 0.9000, Train cost: 0.6842\tVal acc: 0.5998, Val cost: 1.1806\n",
      "Epoch 26, CIFAR-10 Batch 3:  Train acc: 0.7500, Train cost: 0.7521\tVal acc: 0.6002, Val cost: 1.1705\n",
      "Epoch 26, CIFAR-10 Batch 4:  Train acc: 0.8500, Train cost: 0.6494\tVal acc: 0.5996, Val cost: 1.1710\n",
      "Epoch 26, CIFAR-10 Batch 5:  Train acc: 0.7250, Train cost: 0.8198\tVal acc: 0.5922, Val cost: 1.1736\n",
      "Epoch 27, CIFAR-10 Batch 1:  Train acc: 0.7250, Train cost: 0.9005\tVal acc: 0.6038, Val cost: 1.1741\n",
      "Epoch 27, CIFAR-10 Batch 2:  Train acc: 0.8750, Train cost: 0.6795\tVal acc: 0.6004, Val cost: 1.1753\n",
      "Epoch 27, CIFAR-10 Batch 3:  Train acc: 0.7750, Train cost: 0.7495\tVal acc: 0.6036, Val cost: 1.1703\n",
      "Epoch 27, CIFAR-10 Batch 4:  Train acc: 0.8500, Train cost: 0.6496\tVal acc: 0.5994, Val cost: 1.1700\n",
      "Epoch 27, CIFAR-10 Batch 5:  Train acc: 0.7250, Train cost: 0.8254\tVal acc: 0.5990, Val cost: 1.1711\n",
      "Epoch 28, CIFAR-10 Batch 1:  Train acc: 0.7250, Train cost: 0.8678\tVal acc: 0.6034, Val cost: 1.1722\n",
      "Epoch 28, CIFAR-10 Batch 2:  Train acc: 0.8500, Train cost: 0.6635\tVal acc: 0.5978, Val cost: 1.1798\n",
      "Epoch 28, CIFAR-10 Batch 3:  Train acc: 0.8250, Train cost: 0.7531\tVal acc: 0.6000, Val cost: 1.1703\n",
      "Epoch 28, CIFAR-10 Batch 4:  Train acc: 0.8500, Train cost: 0.6410\tVal acc: 0.5990, Val cost: 1.1672\n",
      "Epoch 28, CIFAR-10 Batch 5:  Train acc: 0.7750, Train cost: 0.8090\tVal acc: 0.5990, Val cost: 1.1685\n",
      "Epoch 29, CIFAR-10 Batch 1:  Train acc: 0.7750, Train cost: 0.8556\tVal acc: 0.6060, Val cost: 1.1685\n",
      "Epoch 29, CIFAR-10 Batch 2:  Train acc: 0.9000, Train cost: 0.6546\tVal acc: 0.6016, Val cost: 1.1714\n",
      "Epoch 29, CIFAR-10 Batch 3:  Train acc: 0.7750, Train cost: 0.7422\tVal acc: 0.6038, Val cost: 1.1665\n",
      "Epoch 29, CIFAR-10 Batch 4:  Train acc: 0.8500, Train cost: 0.6336\tVal acc: 0.5992, Val cost: 1.1654\n",
      "Epoch 29, CIFAR-10 Batch 5:  Train acc: 0.7500, Train cost: 0.8053\tVal acc: 0.6010, Val cost: 1.1659\n",
      "Epoch 30, CIFAR-10 Batch 1:  Train acc: 0.7500, Train cost: 0.8649\tVal acc: 0.5996, Val cost: 1.1708\n",
      "Epoch 30, CIFAR-10 Batch 2:  Train acc: 0.8750, Train cost: 0.6467\tVal acc: 0.5972, Val cost: 1.1755\n",
      "Epoch 30, CIFAR-10 Batch 3:  Train acc: 0.7750, Train cost: 0.7366\tVal acc: 0.6002, Val cost: 1.1656\n",
      "Epoch 30, CIFAR-10 Batch 4:  Train acc: 0.8500, Train cost: 0.6312\tVal acc: 0.6014, Val cost: 1.1618\n",
      "Epoch 30, CIFAR-10 Batch 5:  Train acc: 0.7500, Train cost: 0.8029\tVal acc: 0.5940, Val cost: 1.1675\n",
      "Epoch 31, CIFAR-10 Batch 1:  Train acc: 0.7500, Train cost: 0.8642\tVal acc: 0.6032, Val cost: 1.1711\n",
      "Epoch 31, CIFAR-10 Batch 2:  Train acc: 0.8500, Train cost: 0.6639\tVal acc: 0.5982, Val cost: 1.1786\n",
      "Epoch 31, CIFAR-10 Batch 3:  Train acc: 0.8000, Train cost: 0.7332\tVal acc: 0.6028, Val cost: 1.1646\n",
      "Epoch 31, CIFAR-10 Batch 4:  Train acc: 0.8750, Train cost: 0.6458\tVal acc: 0.5986, Val cost: 1.1686\n",
      "Epoch 31, CIFAR-10 Batch 5:  Train acc: 0.8000, Train cost: 0.7890\tVal acc: 0.5974, Val cost: 1.1639\n",
      "Epoch 32, CIFAR-10 Batch 1:  Train acc: 0.7500, Train cost: 0.8736\tVal acc: 0.6026, Val cost: 1.1658\n",
      "Epoch 32, CIFAR-10 Batch 2:  Train acc: 0.8750, Train cost: 0.6495\tVal acc: 0.6020, Val cost: 1.1672\n",
      "Epoch 32, CIFAR-10 Batch 3:  Train acc: 0.7750, Train cost: 0.7132\tVal acc: 0.6076, Val cost: 1.1596\n",
      "Epoch 32, CIFAR-10 Batch 4:  Train acc: 0.9000, Train cost: 0.6237\tVal acc: 0.5992, Val cost: 1.1599\n",
      "Epoch 32, CIFAR-10 Batch 5:  Train acc: 0.8000, Train cost: 0.7825\tVal acc: 0.6008, Val cost: 1.1599\n",
      "Epoch 33, CIFAR-10 Batch 1:  Train acc: 0.7750, Train cost: 0.8585\tVal acc: 0.6034, Val cost: 1.1592\n",
      "Epoch 33, CIFAR-10 Batch 2:  Train acc: 0.9000, Train cost: 0.6346\tVal acc: 0.6040, Val cost: 1.1589\n"
     ]
    },
    {
     "name": "stdout",
     "output_type": "stream",
     "text": [
      "Epoch 33, CIFAR-10 Batch 3:  Train acc: 0.7750, Train cost: 0.7088\tVal acc: 0.6018, Val cost: 1.1602\n",
      "Epoch 33, CIFAR-10 Batch 4:  Train acc: 0.8750, Train cost: 0.6180\tVal acc: 0.6008, Val cost: 1.1627\n",
      "Epoch 33, CIFAR-10 Batch 5:  Train acc: 0.8250, Train cost: 0.7829\tVal acc: 0.6000, Val cost: 1.1578\n",
      "Epoch 34, CIFAR-10 Batch 1:  Train acc: 0.7250, Train cost: 0.8652\tVal acc: 0.6016, Val cost: 1.1638\n",
      "Epoch 34, CIFAR-10 Batch 2:  Train acc: 0.8500, Train cost: 0.6331\tVal acc: 0.6036, Val cost: 1.1619\n",
      "Epoch 34, CIFAR-10 Batch 3:  Train acc: 0.8250, Train cost: 0.7053\tVal acc: 0.6068, Val cost: 1.1563\n",
      "Epoch 34, CIFAR-10 Batch 4:  Train acc: 0.8500, Train cost: 0.6085\tVal acc: 0.6044, Val cost: 1.1553\n",
      "Epoch 34, CIFAR-10 Batch 5:  Train acc: 0.7750, Train cost: 0.7807\tVal acc: 0.6022, Val cost: 1.1587\n",
      "Epoch 35, CIFAR-10 Batch 1:  Train acc: 0.7500, Train cost: 0.8586\tVal acc: 0.6078, Val cost: 1.1602\n",
      "Epoch 35, CIFAR-10 Batch 2:  Train acc: 0.9000, Train cost: 0.6299\tVal acc: 0.6026, Val cost: 1.1614\n",
      "Epoch 35, CIFAR-10 Batch 3:  Train acc: 0.8250, Train cost: 0.7072\tVal acc: 0.6066, Val cost: 1.1556\n",
      "Epoch 35, CIFAR-10 Batch 4:  Train acc: 0.9000, Train cost: 0.6017\tVal acc: 0.6058, Val cost: 1.1571\n",
      "Epoch 35, CIFAR-10 Batch 5:  Train acc: 0.8250, Train cost: 0.7611\tVal acc: 0.6044, Val cost: 1.1538\n",
      "Epoch 36, CIFAR-10 Batch 1:  Train acc: 0.7250, Train cost: 0.8506\tVal acc: 0.6028, Val cost: 1.1602\n",
      "Epoch 36, CIFAR-10 Batch 2:  Train acc: 0.9000, Train cost: 0.6046\tVal acc: 0.6038, Val cost: 1.1601\n",
      "Epoch 36, CIFAR-10 Batch 3:  Train acc: 0.7750, Train cost: 0.7018\tVal acc: 0.6076, Val cost: 1.1522\n",
      "Epoch 36, CIFAR-10 Batch 4:  Train acc: 0.8500, Train cost: 0.6101\tVal acc: 0.6034, Val cost: 1.1513\n",
      "Epoch 36, CIFAR-10 Batch 5:  Train acc: 0.8250, Train cost: 0.7575\tVal acc: 0.6026, Val cost: 1.1525\n",
      "Epoch 37, CIFAR-10 Batch 1:  Train acc: 0.7750, Train cost: 0.8352\tVal acc: 0.6052, Val cost: 1.1597\n",
      "Epoch 37, CIFAR-10 Batch 2:  Train acc: 0.8750, Train cost: 0.6117\tVal acc: 0.6030, Val cost: 1.1621\n",
      "Epoch 37, CIFAR-10 Batch 3:  Train acc: 0.8000, Train cost: 0.7016\tVal acc: 0.6094, Val cost: 1.1519\n",
      "Epoch 37, CIFAR-10 Batch 4:  Train acc: 0.8500, Train cost: 0.6047\tVal acc: 0.6062, Val cost: 1.1502\n",
      "Epoch 37, CIFAR-10 Batch 5:  Train acc: 0.8500, Train cost: 0.7498\tVal acc: 0.6016, Val cost: 1.1540\n",
      "Epoch 38, CIFAR-10 Batch 1:  Train acc: 0.7500, Train cost: 0.8499\tVal acc: 0.6048, Val cost: 1.1545\n",
      "Epoch 38, CIFAR-10 Batch 2:  Train acc: 0.9000, Train cost: 0.6210\tVal acc: 0.6016, Val cost: 1.1567\n",
      "Epoch 38, CIFAR-10 Batch 3:  Train acc: 0.8000, Train cost: 0.6921\tVal acc: 0.6068, Val cost: 1.1508\n",
      "Epoch 38, CIFAR-10 Batch 4:  Train acc: 0.8750, Train cost: 0.5979\tVal acc: 0.6040, Val cost: 1.1544\n",
      "Epoch 38, CIFAR-10 Batch 5:  Train acc: 0.8000, Train cost: 0.7606\tVal acc: 0.6032, Val cost: 1.1510\n",
      "Epoch 39, CIFAR-10 Batch 1:  Train acc: 0.7250, Train cost: 0.8820\tVal acc: 0.5998, Val cost: 1.1615\n",
      "Epoch 39, CIFAR-10 Batch 2:  Train acc: 0.9000, Train cost: 0.6144\tVal acc: 0.6038, Val cost: 1.1584\n",
      "Epoch 39, CIFAR-10 Batch 3:  Train acc: 0.8000, Train cost: 0.6885\tVal acc: 0.6054, Val cost: 1.1502\n",
      "Epoch 39, CIFAR-10 Batch 4:  Train acc: 0.8750, Train cost: 0.5945\tVal acc: 0.6002, Val cost: 1.1539\n",
      "Epoch 39, CIFAR-10 Batch 5:  Train acc: 0.8000, Train cost: 0.7648\tVal acc: 0.6006, Val cost: 1.1512\n",
      "Epoch 40, CIFAR-10 Batch 1:  Train acc: 0.7750, Train cost: 0.8471\tVal acc: 0.6036, Val cost: 1.1528\n",
      "Epoch 40, CIFAR-10 Batch 2:  Train acc: 0.9000, Train cost: 0.6155\tVal acc: 0.5996, Val cost: 1.1592\n",
      "Epoch 40, CIFAR-10 Batch 3:  Train acc: 0.8000, Train cost: 0.6958\tVal acc: 0.6082, Val cost: 1.1482\n",
      "Epoch 40, CIFAR-10 Batch 4:  Train acc: 0.9000, Train cost: 0.5868\tVal acc: 0.6052, Val cost: 1.1483\n",
      "Epoch 40, CIFAR-10 Batch 5:  Train acc: 0.8250, Train cost: 0.7480\tVal acc: 0.6062, Val cost: 1.1476\n",
      "Epoch 41, CIFAR-10 Batch 1:  Train acc: 0.7500, Train cost: 0.8317\tVal acc: 0.6042, Val cost: 1.1515\n",
      "Epoch 41, CIFAR-10 Batch 2:  Train acc: 0.9000, Train cost: 0.6080\tVal acc: 0.6038, Val cost: 1.1556\n",
      "Epoch 41, CIFAR-10 Batch 3:  Train acc: 0.8000, Train cost: 0.6953\tVal acc: 0.6086, Val cost: 1.1465\n",
      "Epoch 41, CIFAR-10 Batch 4:  Train acc: 0.8500, Train cost: 0.5927\tVal acc: 0.6048, Val cost: 1.1463\n",
      "Epoch 41, CIFAR-10 Batch 5:  Train acc: 0.8250, Train cost: 0.7387\tVal acc: 0.6058, Val cost: 1.1465\n",
      "Epoch 42, CIFAR-10 Batch 1:  Train acc: 0.7750, Train cost: 0.8297\tVal acc: 0.6078, Val cost: 1.1528\n",
      "Epoch 42, CIFAR-10 Batch 2:  Train acc: 0.8750, Train cost: 0.6071\tVal acc: 0.6080, Val cost: 1.1526\n",
      "Epoch 42, CIFAR-10 Batch 3:  Train acc: 0.7750, Train cost: 0.6920\tVal acc: 0.6098, Val cost: 1.1483\n",
      "Epoch 42, CIFAR-10 Batch 4:  Train acc: 0.8500, Train cost: 0.5986\tVal acc: 0.6054, Val cost: 1.1485\n",
      "Epoch 42, CIFAR-10 Batch 5:  Train acc: 0.8000, Train cost: 0.7484\tVal acc: 0.6020, Val cost: 1.1486\n",
      "Epoch 43, CIFAR-10 Batch 1:  Train acc: 0.8000, Train cost: 0.8233\tVal acc: 0.6092, Val cost: 1.1491\n",
      "Epoch 43, CIFAR-10 Batch 2:  Train acc: 0.8750, Train cost: 0.6105\tVal acc: 0.6044, Val cost: 1.1505\n",
      "Epoch 43, CIFAR-10 Batch 3:  Train acc: 0.7500, Train cost: 0.6970\tVal acc: 0.6078, Val cost: 1.1458\n",
      "Epoch 43, CIFAR-10 Batch 4:  Train acc: 0.8500, Train cost: 0.6039\tVal acc: 0.6100, Val cost: 1.1428\n",
      "Epoch 43, CIFAR-10 Batch 5:  Train acc: 0.8250, Train cost: 0.7398\tVal acc: 0.6072, Val cost: 1.1418\n",
      "Epoch 44, CIFAR-10 Batch 1:  Train acc: 0.7750, Train cost: 0.8122\tVal acc: 0.6104, Val cost: 1.1467\n",
      "Epoch 44, CIFAR-10 Batch 2:  Train acc: 0.9000, Train cost: 0.6039\tVal acc: 0.6072, Val cost: 1.1446\n",
      "Epoch 44, CIFAR-10 Batch 3:  Train acc: 0.7750, Train cost: 0.6789\tVal acc: 0.6102, Val cost: 1.1442\n",
      "Epoch 44, CIFAR-10 Batch 4:  Train acc: 0.8750, Train cost: 0.6003\tVal acc: 0.6096, Val cost: 1.1453\n",
      "Epoch 44, CIFAR-10 Batch 5:  Train acc: 0.8250, Train cost: 0.7376\tVal acc: 0.6038, Val cost: 1.1438\n",
      "Epoch 45, CIFAR-10 Batch 1:  Train acc: 0.7750, Train cost: 0.8187\tVal acc: 0.6054, Val cost: 1.1503\n",
      "Epoch 45, CIFAR-10 Batch 2:  Train acc: 0.9000, Train cost: 0.6066\tVal acc: 0.6058, Val cost: 1.1510\n",
      "Epoch 45, CIFAR-10 Batch 3:  Train acc: 0.7750, Train cost: 0.6812\tVal acc: 0.6126, Val cost: 1.1429\n",
      "Epoch 45, CIFAR-10 Batch 4:  Train acc: 0.8500, Train cost: 0.6060\tVal acc: 0.6054, Val cost: 1.1451\n",
      "Epoch 45, CIFAR-10 Batch 5:  Train acc: 0.8250, Train cost: 0.7537\tVal acc: 0.6078, Val cost: 1.1399\n",
      "Epoch 46, CIFAR-10 Batch 1:  Train acc: 0.7750, Train cost: 0.8030\tVal acc: 0.6098, Val cost: 1.1436\n",
      "Epoch 46, CIFAR-10 Batch 2:  Train acc: 0.9000, Train cost: 0.6050\tVal acc: 0.6114, Val cost: 1.1507\n",
      "Epoch 46, CIFAR-10 Batch 3:  Train acc: 0.7750, Train cost: 0.6755\tVal acc: 0.6088, Val cost: 1.1430\n",
      "Epoch 46, CIFAR-10 Batch 4:  Train acc: 0.8750, Train cost: 0.6009\tVal acc: 0.6070, Val cost: 1.1411\n",
      "Epoch 46, CIFAR-10 Batch 5:  Train acc: 0.8250, Train cost: 0.7432\tVal acc: 0.6062, Val cost: 1.1422\n",
      "Epoch 47, CIFAR-10 Batch 1:  Train acc: 0.7500, Train cost: 0.8164\tVal acc: 0.6090, Val cost: 1.1492\n",
      "Epoch 47, CIFAR-10 Batch 2:  Train acc: 0.9000, Train cost: 0.5939\tVal acc: 0.6100, Val cost: 1.1457\n",
      "Epoch 47, CIFAR-10 Batch 3:  Train acc: 0.8250, Train cost: 0.6717\tVal acc: 0.6102, Val cost: 1.1377\n",
      "Epoch 47, CIFAR-10 Batch 4:  Train acc: 0.9000, Train cost: 0.5815\tVal acc: 0.6088, Val cost: 1.1407\n",
      "Epoch 47, CIFAR-10 Batch 5:  Train acc: 0.8250, Train cost: 0.7373\tVal acc: 0.6096, Val cost: 1.1403\n",
      "Epoch 48, CIFAR-10 Batch 1:  Train acc: 0.8000, Train cost: 0.8167\tVal acc: 0.6054, Val cost: 1.1453\n",
      "Epoch 48, CIFAR-10 Batch 2:  Train acc: 0.8750, Train cost: 0.5906\tVal acc: 0.6106, Val cost: 1.1413\n",
      "Epoch 48, CIFAR-10 Batch 3:  Train acc: 0.7750, Train cost: 0.6706\tVal acc: 0.6110, Val cost: 1.1394\n",
      "Epoch 48, CIFAR-10 Batch 4:  Train acc: 0.9000, Train cost: 0.5810\tVal acc: 0.6038, Val cost: 1.1399\n",
      "Epoch 48, CIFAR-10 Batch 5:  Train acc: 0.8250, Train cost: 0.7434\tVal acc: 0.6068, Val cost: 1.1386\n",
      "Epoch 49, CIFAR-10 Batch 1:  Train acc: 0.7750, Train cost: 0.8224\tVal acc: 0.6028, Val cost: 1.1477\n",
      "Epoch 49, CIFAR-10 Batch 2:  Train acc: 0.9000, Train cost: 0.5903\tVal acc: 0.6114, Val cost: 1.1471\n",
      "Epoch 49, CIFAR-10 Batch 3:  Train acc: 0.8250, Train cost: 0.6609\tVal acc: 0.6116, Val cost: 1.1362\n"
     ]
    },
    {
     "name": "stdout",
     "output_type": "stream",
     "text": [
      "Epoch 49, CIFAR-10 Batch 4:  Train acc: 0.9000, Train cost: 0.5853\tVal acc: 0.6092, Val cost: 1.1406\n",
      "Epoch 49, CIFAR-10 Batch 5:  Train acc: 0.8000, Train cost: 0.7340\tVal acc: 0.6038, Val cost: 1.1417\n",
      "Epoch 50, CIFAR-10 Batch 1:  Train acc: 0.7750, Train cost: 0.8192\tVal acc: 0.6052, Val cost: 1.1438\n",
      "Epoch 50, CIFAR-10 Batch 2:  Train acc: 0.9000, Train cost: 0.5870\tVal acc: 0.6120, Val cost: 1.1382\n",
      "Epoch 50, CIFAR-10 Batch 3:  Train acc: 0.8250, Train cost: 0.6726\tVal acc: 0.6114, Val cost: 1.1382\n",
      "Epoch 50, CIFAR-10 Batch 4:  Train acc: 0.9250, Train cost: 0.5798\tVal acc: 0.6080, Val cost: 1.1421\n",
      "Epoch 50, CIFAR-10 Batch 5:  Train acc: 0.8250, Train cost: 0.7359\tVal acc: 0.6102, Val cost: 1.1380\n"
     ]
    }
   ],
   "source": [
    "\"\"\"\n",
    "DON'T MODIFY ANYTHING IN THIS CELL\n",
    "\"\"\"\n",
    "save_model_path = './image_classification'\n",
    "\n",
    "print('Training...')\n",
    "with tf.Session() as sess:\n",
    "    # Initializing the variables\n",
    "    sess.run(tf.global_variables_initializer())\n",
    "    \n",
    "    # Training cycle\n",
    "    for epoch in range(epochs):\n",
    "        # Loop over all batches\n",
    "        n_batches = 5\n",
    "        for batch_i in range(1, n_batches + 1):\n",
    "            for batch_features, batch_labels in helper.load_preprocess_training_batch(batch_i, batch_size):\n",
    "                train_neural_network(sess, optimizer, keep_probability, batch_features, batch_labels)\n",
    "            print('Epoch {:>2}, CIFAR-10 Batch {}:  '.format(epoch + 1, batch_i), end='')\n",
    "            print_stats(sess, batch_features, batch_labels, cost, accuracy)\n",
    "            \n",
    "    # Save Model\n",
    "    saver = tf.train.Saver()\n",
    "    save_path = saver.save(sess, save_model_path)"
   ]
  },
  {
   "cell_type": "markdown",
   "metadata": {},
   "source": [
    "# Checkpoint\n",
    "The model has been saved to disk.\n",
    "## Test Model\n",
    "Test your model against the test dataset.  This will be your final accuracy. You should have an accuracy greater than 50%. If you don't, keep tweaking the model architecture and parameters."
   ]
  },
  {
   "cell_type": "code",
   "execution_count": 18,
   "metadata": {},
   "outputs": [
    {
     "name": "stdout",
     "output_type": "stream",
     "text": [
      "Testing Accuracy: 0.60986328125\n",
      "\n"
     ]
    },
    {
     "data": {
      "image/png": "[encoded data removed]",
      "text/plain": [
       "<matplotlib.figure.Figure at 0x114565048>"
      ]
     },
     "metadata": {
      "image/png": {
       "height": 319,
       "width": 355
      }
     },
     "output_type": "display_data"
    }
   ],
   "source": [
    "\"\"\"\n",
    "DON'T MODIFY ANYTHING IN THIS CELL\n",
    "\"\"\"\n",
    "%matplotlib inline\n",
    "%config InlineBackend.figure_format = 'retina'\n",
    "\n",
    "import tensorflow as tf\n",
    "import pickle\n",
    "import helper\n",
    "import random\n",
    "\n",
    "# Set batch size if not already set\n",
    "try:\n",
    "    if batch_size:\n",
    "        pass\n",
    "except NameError:\n",
    "    batch_size = 64\n",
    "\n",
    "save_model_path = './image_classification'\n",
    "n_samples = 4\n",
    "top_n_predictions = 3\n",
    "\n",
    "def test_model():\n",
    "    \"\"\"\n",
    "    Test the saved model against the test dataset\n",
    "    \"\"\"\n",
    "\n",
    "    test_features, test_labels = pickle.load(open('preprocess_training.p', mode='rb'))\n",
    "    loaded_graph = tf.Graph()\n",
    "\n",
    "    with tf.Session(graph=loaded_graph) as sess:\n",
    "        # Load model\n",
    "        loader = tf.train.import_meta_graph(save_model_path + '.meta')\n",
    "        loader.restore(sess, save_model_path)\n",
    "\n",
    "        # Get Tensors from loaded model\n",
    "        loaded_x = loaded_graph.get_tensor_by_name('x:0')\n",
    "        loaded_y = loaded_graph.get_tensor_by_name('y:0')\n",
    "        loaded_keep_prob = loaded_graph.get_tensor_by_name('keep_prob:0')\n",
    "        loaded_logits = loaded_graph.get_tensor_by_name('logits:0')\n",
    "        loaded_acc = loaded_graph.get_tensor_by_name('accuracy:0')\n",
    "        \n",
    "        # Get accuracy in batches for memory limitations\n",
    "        test_batch_acc_total = 0\n",
    "        test_batch_count = 0\n",
    "        \n",
    "        for train_feature_batch, train_label_batch in helper.batch_features_labels(test_features, test_labels, batch_size):\n",
    "            test_batch_acc_total += sess.run(\n",
    "                loaded_acc,\n",
    "                feed_dict={loaded_x: train_feature_batch, loaded_y: train_label_batch, loaded_keep_prob: 1.0})\n",
    "            test_batch_count += 1\n",
    "\n",
    "        print('Testing Accuracy: {}\\n'.format(test_batch_acc_total/test_batch_count))\n",
    "\n",
    "        # Print Random Samples\n",
    "        random_test_features, random_test_labels = tuple(zip(*random.sample(list(zip(test_features, test_labels)), n_samples)))\n",
    "        random_test_predictions = sess.run(\n",
    "            tf.nn.top_k(tf.nn.softmax(loaded_logits), top_n_predictions),\n",
    "            feed_dict={loaded_x: random_test_features, loaded_y: random_test_labels, loaded_keep_prob: 1.0})\n",
    "        helper.display_image_predictions(random_test_features, random_test_labels, random_test_predictions)\n",
    "\n",
    "\n",
    "test_model()"
   ]
  },
  {
   "cell_type": "markdown",
   "metadata": {},
   "source": [
    "## Why 50-70% Accuracy?\n",
    "You might be wondering why you can't get an accuracy any higher. First things first, 50% isn't bad for a simple CNN.  Pure guessing would get you 10% accuracy. However, you might notice people are getting scores [well above 70%](http://rodrigob.github.io/are_we_there_yet/build/classification_datasets_results.html#43494641522d3130).  That's because we haven't taught you all there is to know about neural networks. We still need to cover a few more techniques.\n",
    "## Submitting This Project\n",
    "When submitting this project, make sure to run all the cells before saving the notebook.  Save the notebook file as \"dlnd_image_classification.ipynb\" and save it as a HTML file under \"File\" -> \"Download as\".  Include the \"helper.py\" and \"problem_unittests.py\" files in your submission."
   ]
  },
  {
   "cell_type": "code",
   "execution_count": null,
   "metadata": {
    "collapsed": true
   },
   "outputs": [],
   "source": []
  }
 ],
 "metadata": {
  "kernelspec": {
   "display_name": "Python 3",
   "language": "python",
   "name": "python3"
  },
  "language_info": {
   "codemirror_mode": {
    "name": "ipython",
    "version": 3
   },
   "file_extension": ".py",
   "mimetype": "text/x-python",
   "name": "python",
   "nbconvert_exporter": "python",
   "pygments_lexer": "ipython3",
   "version": "3.6.3"
  }
 },
 "nbformat": 4,
 "nbformat_minor": 1
}
